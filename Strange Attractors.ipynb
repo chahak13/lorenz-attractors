{
 "cells": [
  {
   "cell_type": "code",
   "execution_count": null,
   "metadata": {},
   "outputs": [],
   "source": [
    "%matplotlib inline\n",
    "%config InlineBackend.figure_format = 'svg'\n",
    "import numpy as np\n",
    "import matplotlib.pyplot as plt\n",
    "from mpl_toolkits import mplot3d\n",
    "import scipy.integrate as spi\n",
    "from tqdm import tqdm"
   ]
  },
  {
   "cell_type": "markdown",
   "metadata": {},
   "source": [
    "# Lorenz Attractor"
   ]
  },
  {
   "cell_type": "code",
   "execution_count": null,
   "metadata": {},
   "outputs": [],
   "source": [
    "#integration step\n",
    "def lorenzDiff(position, t):\n",
    "    global rho, b, sigma\n",
    "    x, y, z = position\n",
    "    dx = sigma*(y-x)\n",
    "    dy = x*(rho-z) - y\n",
    "    dz = x*y - b*z\n",
    "    return [dx, dy, dz]"
   ]
  },
  {
   "cell_type": "code",
   "execution_count": null,
   "metadata": {},
   "outputs": [],
   "source": [
    "#initial state\n",
    "pInitial = [5, 5, 5]\n",
    "\n",
    "#parameters\n",
    "rho = 28\n",
    "b = 8/3\n",
    "sigma = 10\n",
    "\n",
    "#simulation parameters\n",
    "dt = 0.01\n",
    "tStart = 0\n",
    "tEnd = 500\n",
    "time = np.arange(tStart, tEnd, dt)\n",
    "\n",
    "#get trajectory using integration\n",
    "traj = spi.odeint(lorenzDiff, pInitial, time)\n",
    "\n",
    "x = traj[:,0]\n",
    "y = traj[:,1]\n",
    "z = traj[:,2]\n",
    "\n",
    "fig = plt.figure(figsize=(12, 9))\n",
    "ax = fig.gca(projection='3d')\n",
    "ax.set_xlabel(r\"$X$\")\n",
    "ax.set_ylabel(r\"$Y$\")\n",
    "ax.set_zlabel(r\"$Z$\")\n",
    "ax.plot(x,y,z, \"k\", linewidth = 1, alpha = 1)\n",
    "\n",
    "traj2 = spi.odeint(lorenzDiff, [5.01,5,5], time)\n",
    "ax.plot(traj2[:,0],traj2[:,1],traj2[:,2], \"r--\", linewidth = 1, alpha = 0.7)\n",
    "fig.savefig(\"chaosxyz1.png\", format = \"png\", dpi = 300)"
   ]
  },
  {
   "cell_type": "code",
   "execution_count": null,
   "metadata": {},
   "outputs": [],
   "source": [
    "plt.plot(time, x, \"k\", linewidth = 1, label = r\"$x = 5$\")\n",
    "plt.plot(time, traj2[:,0], \"r--\", linewidth = 1, label = r\"$x = 5.01$\")\n",
    "plt.grid(True)\n",
    "plt.legend()\n",
    "plt.xlabel(r\"$t$\")\n",
    "plt.ylabel(r\"$x(t)$\")\n",
    "plt.savefig(\"chaosx1.png\", format = \"png\", dpi = 300)"
   ]
  },
  {
   "cell_type": "code",
   "execution_count": null,
   "metadata": {},
   "outputs": [],
   "source": [
    "d = np.abs(traj-traj2)\n",
    "lst = []\n",
    "for dist in d:\n",
    "    lst.append(np.sqrt(dist[0]**2 + dist[1]**2 + dist[2]**2))\n",
    "lst = np.array(lst)"
   ]
  },
  {
   "cell_type": "code",
   "execution_count": null,
   "metadata": {},
   "outputs": [],
   "source": [
    "plt.plot(time[328:1728], np.log(lst[328:1728]), \"k\", label = r\"separation $\\delta$\")\n",
    "plt.plot(time[328:1728], 0.9*time[328:1728]-9, \"r--\", label = r\"$slope = \\lambda=0.9$\")\n",
    "plt.grid(True)\n",
    "plt.xlabel(r\"$t$\")\n",
    "plt.ylabel(r\"$ln|\\delta(t)|$\")\n",
    "plt.legend()\n",
    "plt.savefig(\"liapunov.png\", format = \"png\", dpi = 300)"
   ]
  },
  {
   "cell_type": "code",
   "execution_count": null,
   "metadata": {},
   "outputs": [],
   "source": [
    "z = traj[:,2]\n",
    "plt.plot(time, z)\n",
    "mList = []\n",
    "for i in range(1, len(z)-1):\n",
    "    if z[i]> z[i+1] and z[i]>z[i-1]:\n",
    "        mList.append(z[i])\n",
    "mList = np.array(mList)"
   ]
  },
  {
   "cell_type": "code",
   "execution_count": null,
   "metadata": {},
   "outputs": [],
   "source": [
    "mf = []\n",
    "mb = []\n",
    "for i in range(1, len(mList)):\n",
    "    mf.append(mList[i])\n",
    "for i in range(0, len(mList)-1):\n",
    "    mb.append(mList[i])\n",
    "mf = np.array(mf)\n",
    "mb = np.array(mb)\n",
    "\n"
   ]
  },
  {
   "cell_type": "code",
   "execution_count": null,
   "metadata": {},
   "outputs": [],
   "source": [
    "plt.grid(True)\n",
    "plt.plot(mb, mf, \"k.\", markersize = 1)\n",
    "plt.xlabel(r\"$z_n$\")\n",
    "plt.ylabel(r\"$z_{n+1}$\")\n",
    "plt.plot(mb, mb, \"r--\", linewidth = 1)\n",
    "plt.savefig(\"lorenzmap.png\", format=\"png\", dpi = 300)\n"
   ]
  },
  {
   "cell_type": "code",
   "execution_count": null,
   "metadata": {},
   "outputs": [],
   "source": [
    "traj3 = spi.odeint(lorenzDiff, [-20,0,0], time[:5000])\n",
    "plt.plot(traj3[:,1], traj3[:,2], \"k\",linewidth = 0.6)\n",
    "plt.grid(True)\n",
    "plt.xlabel(r\"$y$\")\n",
    "plt.ylabel(r\"$z$\")\n",
    "plt.savefig(\"lorenzZ.png\", format = \"png\", dpi = 350)"
   ]
  },
  {
   "cell_type": "code",
   "execution_count": null,
   "metadata": {},
   "outputs": [],
   "source": [
    "# r<1\n",
    "rho = 25\n",
    "b = 8/3\n",
    "sigma = 10\n",
    "traj4 = spi.odeint(lorenzDiff, [20,20,20], time[:5000])\n",
    "\n",
    "fig1 = plt.figure(figsize=(12, 9))\n",
    "ax1 = fig1.gca(projection='3d')\n",
    "ax1.set_xlabel(r\"$X$\")\n",
    "ax1.set_ylabel(r\"$Y$\")\n",
    "ax1.set_zlabel(r\"$Z$\")\n",
    "ax1.plot(traj4[:,0],traj4[:,1],traj4[:,2], \"k\", linewidth = 1, alpha = 0.7)\n",
    "fig1.savefig(\"r25.png\", format = \"png\", dpi =300)"
   ]
  }
 ],
 "metadata": {
  "kernelspec": {
   "display_name": "Python 3",
   "language": "python",
   "name": "python3"
  },
  "language_info": {
   "codemirror_mode": {
    "name": "ipython",
    "version": 3
   },
   "file_extension": ".py",
   "mimetype": "text/x-python",
   "name": "python",
   "nbconvert_exporter": "python",
   "pygments_lexer": "ipython3",
   "version": "3.6.3"
  }
 },
 "nbformat": 4,
 "nbformat_minor": 2
}
